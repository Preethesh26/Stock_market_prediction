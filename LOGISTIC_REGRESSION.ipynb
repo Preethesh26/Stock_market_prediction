{
 "cells": [
  {
   "cell_type": "code",
   "execution_count": 1,
   "id": "598a5e52",
   "metadata": {},
   "outputs": [
    {
     "name": "stdout",
     "output_type": "stream",
     "text": [
      "Requirement already satisfied: pandas in c:\\users\\asus\\anaconda3\\lib\\site-packages (1.4.4)\n",
      "Requirement already satisfied: scikit-learn in c:\\users\\asus\\anaconda3\\lib\\site-packages (1.0.2)\n",
      "Requirement already satisfied: numpy in c:\\users\\asus\\anaconda3\\lib\\site-packages (1.21.5)\n",
      "Requirement already satisfied: python-dateutil>=2.8.1 in c:\\users\\asus\\anaconda3\\lib\\site-packages (from pandas) (2.8.2)\n",
      "Requirement already satisfied: pytz>=2020.1 in c:\\users\\asus\\anaconda3\\lib\\site-packages (from pandas) (2024.1)\n",
      "Requirement already satisfied: threadpoolctl>=2.0.0 in c:\\users\\asus\\anaconda3\\lib\\site-packages (from scikit-learn) (2.2.0)\n",
      "Requirement already satisfied: scipy>=1.1.0 in c:\\users\\asus\\anaconda3\\lib\\site-packages (from scikit-learn) (1.9.1)\n",
      "Requirement already satisfied: joblib>=0.11 in c:\\users\\asus\\anaconda3\\lib\\site-packages (from scikit-learn) (1.1.0)\n",
      "Requirement already satisfied: six>=1.5 in c:\\users\\asus\\anaconda3\\lib\\site-packages (from python-dateutil>=2.8.1->pandas) (1.16.0)\n",
      "Note: you may need to restart the kernel to use updated packages.\n"
     ]
    }
   ],
   "source": [
    "pip install pandas scikit-learn numpy\n"
   ]
  },
  {
   "cell_type": "code",
   "execution_count": 2,
   "id": "ce989262",
   "metadata": {},
   "outputs": [],
   "source": [
    "import pandas as pd\n",
    "import numpy as np\n",
    "from sklearn.model_selection import train_test_split\n",
    "from sklearn.preprocessing import StandardScaler\n",
    "from sklearn.linear_model import LogisticRegression\n",
    "from sklearn.metrics import accuracy_score, classification_report"
   ]
  },
  {
   "cell_type": "code",
   "execution_count": 3,
   "id": "fb09065f",
   "metadata": {},
   "outputs": [
    {
     "name": "stdout",
     "output_type": "stream",
     "text": [
      "            Date        Open        High         Low       Close   Adj Close  \\\n",
      "0     2013-01-02   19.779285   19.821428   19.343929   19.608213   16.837111   \n",
      "1     2013-01-03   19.567142   19.631071   19.321428   19.360714   16.624594   \n",
      "2     2013-01-04   19.177500   19.236786   18.779642   18.821428   16.161524   \n",
      "3     2013-01-07   18.642857   18.903570   18.400000   18.710714   16.066458   \n",
      "4     2013-01-08   18.900356   18.996071   18.616072   18.761070   16.109695   \n",
      "...          ...         ...         ...         ...         ...         ...   \n",
      "2513  2022-12-23  130.919998  132.419998  129.639999  131.860001  131.658981   \n",
      "2514  2022-12-27  131.380005  131.410004  128.720001  130.029999  129.831772   \n",
      "2515  2022-12-28  129.669998  131.029999  125.870003  126.040001  125.847855   \n",
      "2516  2022-12-29  127.989998  130.479996  127.730003  129.610001  129.412415   \n",
      "2517  2022-12-30  128.410004  129.949997  127.430000  129.929993  129.731918   \n",
      "\n",
      "         Volume  \n",
      "0     560518000  \n",
      "1     352965200  \n",
      "2     594333600  \n",
      "3     484156400  \n",
      "4     458707200  \n",
      "...         ...  \n",
      "2513   63814900  \n",
      "2514   69007800  \n",
      "2515   85438400  \n",
      "2516   75703700  \n",
      "2517   77034200  \n",
      "\n",
      "[2518 rows x 7 columns]\n"
     ]
    }
   ],
   "source": [
    "df = pd.read_csv('AAPL.csv')\n",
    "print(df)"
   ]
  },
  {
   "cell_type": "code",
   "execution_count": 4,
   "id": "64d5e0b4",
   "metadata": {},
   "outputs": [],
   "source": [
    "df['Date'] = pd.to_datetime(df['Date'])\n",
    "df = df.sort_values('Date')"
   ]
  },
  {
   "cell_type": "code",
   "execution_count": 5,
   "id": "c04cc584",
   "metadata": {},
   "outputs": [],
   "source": [
    "df['Pct_Change'] = df['Close'].pct_change()"
   ]
  },
  {
   "cell_type": "code",
   "execution_count": 6,
   "id": "9b4e8871",
   "metadata": {},
   "outputs": [
    {
     "name": "stdout",
     "output_type": "stream",
     "text": [
      "           Date        Open        High         Low       Close   Adj Close  \\\n",
      "1    2013-01-03   19.567142   19.631071   19.321428   19.360714   16.624594   \n",
      "2    2013-01-04   19.177500   19.236786   18.779642   18.821428   16.161524   \n",
      "3    2013-01-07   18.642857   18.903570   18.400000   18.710714   16.066458   \n",
      "4    2013-01-08   18.900356   18.996071   18.616072   18.761070   16.109695   \n",
      "5    2013-01-09   18.660713   18.750357   18.428213   18.467857   15.857916   \n",
      "...         ...         ...         ...         ...         ...         ...   \n",
      "2513 2022-12-23  130.919998  132.419998  129.639999  131.860001  131.658981   \n",
      "2514 2022-12-27  131.380005  131.410004  128.720001  130.029999  129.831772   \n",
      "2515 2022-12-28  129.669998  131.029999  125.870003  126.040001  125.847855   \n",
      "2516 2022-12-29  127.989998  130.479996  127.730003  129.610001  129.412415   \n",
      "2517 2022-12-30  128.410004  129.949997  127.430000  129.929993  129.731918   \n",
      "\n",
      "         Volume  Pct_Change  Target  \n",
      "1     352965200   -0.012622       0  \n",
      "2     594333600   -0.027855       0  \n",
      "3     484156400   -0.005882       0  \n",
      "4     458707200    0.002691       0  \n",
      "5     407604400   -0.015629       1  \n",
      "...         ...         ...     ...  \n",
      "2513   63814900   -0.002798       0  \n",
      "2514   69007800   -0.013878       0  \n",
      "2515   85438400   -0.030685       0  \n",
      "2516   75703700    0.028324       0  \n",
      "2517   77034200    0.002469       0  \n",
      "\n",
      "[2517 rows x 9 columns]\n"
     ]
    }
   ],
   "source": [
    "df['Target'] = (df['Pct_Change'].shift(-30) > 0).astype(int)\n",
    "\n",
    "df = df.dropna()\n",
    "print(df)"
   ]
  },
  {
   "cell_type": "code",
   "execution_count": 7,
   "id": "ebea560d",
   "metadata": {},
   "outputs": [],
   "source": [
    "X = df[['Close']].values\n",
    "y = df['Target'].values\n",
    "\n",
    "X_train, X_test, y_train, y_test = train_test_split(X, y, test_size=0.2, random_state=42)\n"
   ]
  },
  {
   "cell_type": "code",
   "execution_count": 8,
   "id": "df8d4d39",
   "metadata": {},
   "outputs": [
    {
     "data": {
      "text/plain": [
       "LogisticRegression()"
      ]
     },
     "execution_count": 8,
     "metadata": {},
     "output_type": "execute_result"
    }
   ],
   "source": [
    "scaler = StandardScaler()\n",
    "X_train = scaler.fit_transform(X_train)\n",
    "X_test = scaler.transform(X_test)\n",
    "\n",
    "model = LogisticRegression()\n",
    "model.fit(X_train, y_train)"
   ]
  },
  {
   "cell_type": "code",
   "execution_count": 9,
   "id": "5ffb7a05",
   "metadata": {},
   "outputs": [
    {
     "name": "stdout",
     "output_type": "stream",
     "text": [
      "[0 1 1 1 1 1 1 1 1 1 0 1 1 1 1 1 0 1 1 1 0 1 0 0 1 1 1 1 1 1 0 1 1 1 1 0 1\n",
      " 1 1 1 1 1 1 1 1 1 1 1 1 1 1 1 0 0 0 1 1 1 1 1 1 1 0 0 1 1 0 1 0 0 1 1 1 0\n",
      " 1 1 1 0 0 1 1 1 1 1 1 1 1 1 1 0 0 1 0 0 1 0 1 1 1 1 1 1 1 1 1 1 0 0 1 1 1\n",
      " 1 0 1 1 1 1 0 1 1 0 0 1 1 1 1 1 1 0 1 1 1 1 1 0 1 1 1 1 1 1 1 1 1 1 1 1 0\n",
      " 0 1 1 1 1 1 1 1 1 1 1 1 1 1 1 1 1 1 1 1 1 1 0 1 0 1 1 1 1 1 1 1 1 0 1 1 1\n",
      " 1 1 0 1 0 1 1 1 0 1 1 1 1 1 1 1 1 1 1 1 1 1 1 1 1 1 1 1 1 1 1 0 1 1 1 1 1\n",
      " 1 1 1 1 0 1 1 1 1 1 1 1 1 1 1 1 1 0 1 0 1 1 1 0 1 1 1 1 1 1 1 1 1 1 1 1 1\n",
      " 1 0 1 1 1 1 1 1 1 1 1 1 1 1 0 1 1 1 1 0 1 1 1 1 1 1 1 1 1 1 1 1 1 1 1 1 1\n",
      " 1 1 0 1 1 1 1 1 0 1 1 1 0 1 1 1 1 0 1 1 1 0 1 1 0 1 1 1 1 1 1 1 1 1 0 1 1\n",
      " 1 1 1 1 1 1 1 0 1 0 1 0 0 1 1 1 1 1 1 1 0 0 1 1 1 1 0 1 0 1 1 1 1 0 0 1 1\n",
      " 0 0 0 1 1 1 1 0 1 1 1 0 0 1 1 1 1 1 1 1 1 1 1 1 1 1 1 1 0 1 0 1 1 0 1 1 1\n",
      " 1 1 1 1 1 0 1 1 1 1 0 1 1 0 1 1 0 1 1 0 1 1 1 1 0 1 1 1 1 1 0 1 0 0 1 1 1\n",
      " 1 0 1 1 0 1 1 1 0 0 1 1 1 1 1 1 1 1 1 1 1 0 1 1 1 0 1 1 1 1 0 1 1 1 1 1 0\n",
      " 1 1 1 1 1 1 1 1 1 1 1 1 0 1 0 1 1 1 1 1 1 1 1]\n"
     ]
    }
   ],
   "source": [
    "y_pred = model.predict(X_test)\n",
    "print(y_pred)"
   ]
  },
  {
   "cell_type": "code",
   "execution_count": 10,
   "id": "a178d758",
   "metadata": {},
   "outputs": [
    {
     "name": "stdout",
     "output_type": "stream",
     "text": [
      "Accuracy: 0.5575396825396826\n",
      "              precision    recall  f1-score   support\n",
      "\n",
      "           0       0.57      0.22      0.32       236\n",
      "           1       0.55      0.85      0.67       268\n",
      "\n",
      "    accuracy                           0.56       504\n",
      "   macro avg       0.56      0.54      0.50       504\n",
      "weighted avg       0.56      0.56      0.51       504\n",
      "\n"
     ]
    }
   ],
   "source": [
    "accuracy = accuracy_score(y_test, y_pred)\n",
    "print('Accuracy:', accuracy)\n",
    "print(classification_report(y_test, y_pred))"
   ]
  },
  {
   "cell_type": "code",
   "execution_count": 11,
   "id": "c854add6",
   "metadata": {},
   "outputs": [
    {
     "name": "stdout",
     "output_type": "stream",
     "text": [
      "Future predictions (1 for up, 0 for down): [0 0 0 0 0 0 0 0 0 0 0 0 0 0 0 0 0 0 0 0 0 0 0 0 0 0 0 0 0 0]\n"
     ]
    }
   ],
   "source": [
    "future_prices = df[['Close']].tail(30).values\n",
    "future_prices_scaled = scaler.transform(future_prices)\n",
    "future_pred = model.predict(future_prices_scaled)\n",
    "print('Future predictions (1 for up, 0 for down):', future_pred)"
   ]
  },
  {
   "cell_type": "code",
   "execution_count": null,
   "id": "4d29ada8",
   "metadata": {},
   "outputs": [],
   "source": []
  },
  {
   "cell_type": "code",
   "execution_count": null,
   "id": "6d8f8e8e",
   "metadata": {},
   "outputs": [],
   "source": []
  }
 ],
 "metadata": {
  "kernelspec": {
   "display_name": "Python 3 (ipykernel)",
   "language": "python",
   "name": "python3"
  },
  "language_info": {
   "codemirror_mode": {
    "name": "ipython",
    "version": 3
   },
   "file_extension": ".py",
   "mimetype": "text/x-python",
   "name": "python",
   "nbconvert_exporter": "python",
   "pygments_lexer": "ipython3",
   "version": "3.9.13"
  }
 },
 "nbformat": 4,
 "nbformat_minor": 5
}
